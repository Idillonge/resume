{
  "cells": [
    {
      "cell_type": "markdown",
      "metadata": {
        "id": "iaYSvLafmRDR"
      },
      "source": [
        "## Running handwritten text recognition on Rackham notebooks"
      ]
    },
    {
      "cell_type": "markdown",
      "metadata": {
        "id": "PalZjmwXYeWQ"
      },
      "source": [
        "#### **Important** set these two values before running the code."
      ]
    },
    {
      "cell_type": "code",
      "execution_count": 1,
      "metadata": {
        "id": "pkr7qVJ4YpaD"
      },
      "outputs": [],
      "source": [
        "manifest = \"https://cudl.lib.cam.ac.uk//iiif/MS-CCCC-00014-00006-00002-00001-00063.json\" # the URI of the IIIF manifest containing the images\n",
        "spread = \"Y\" # set to \"N\" if the images are not a double spread"
      ]
    },
    {
      "cell_type": "markdown",
      "metadata": {
        "id": "PaeuUiRbd37v"
      },
      "source": [
        "import the libraries we need and which Colab already has"
      ]
    },
    {
      "cell_type": "code",
      "execution_count": 2,
      "metadata": {
        "id": "DRUO6pcaeCQO"
      },
      "outputs": [],
      "source": [
        "import json\n",
        "import os\n",
        "import requests"
      ]
    },
    {
      "cell_type": "markdown",
      "metadata": {
        "id": "JfM7Dpf4fs1s"
      },
      "source": [
        "Colab does not have Google's own vision library (even though they are both Google products) so we need to install it before importing it"
      ]
    },
    {
      "cell_type": "code",
      "execution_count": 4,
      "metadata": {
        "colab": {
          "base_uri": "https://localhost:8080/"
        },
        "id": "ter6qkzIfRqI",
        "outputId": "2e56e333-4fef-4d89-abd4-92dadac60f46"
      },
      "outputs": [
        {
          "output_type": "stream",
          "name": "stdout",
          "text": [
            "Requirement already satisfied: google-cloud-vision in /usr/local/lib/python3.12/dist-packages (3.11.0)\n",
            "Requirement already satisfied: google-api-core!=2.0.*,!=2.1.*,!=2.10.*,!=2.2.*,!=2.3.*,!=2.4.*,!=2.5.*,!=2.6.*,!=2.7.*,!=2.8.*,!=2.9.*,<3.0.0,>=1.34.1 in /usr/local/lib/python3.12/dist-packages (from google-api-core[grpc]!=2.0.*,!=2.1.*,!=2.10.*,!=2.2.*,!=2.3.*,!=2.4.*,!=2.5.*,!=2.6.*,!=2.7.*,!=2.8.*,!=2.9.*,<3.0.0,>=1.34.1->google-cloud-vision) (2.27.0)\n",
            "Requirement already satisfied: google-auth!=2.24.0,!=2.25.0,<3.0.0,>=2.14.1 in /usr/local/lib/python3.12/dist-packages (from google-cloud-vision) (2.38.0)\n",
            "Requirement already satisfied: grpcio<2.0.0,>=1.33.2 in /usr/local/lib/python3.12/dist-packages (from google-cloud-vision) (1.76.0)\n",
            "Requirement already satisfied: proto-plus<2.0.0,>=1.22.3 in /usr/local/lib/python3.12/dist-packages (from google-cloud-vision) (1.26.1)\n",
            "Requirement already satisfied: protobuf!=4.21.0,!=4.21.1,!=4.21.2,!=4.21.3,!=4.21.4,!=4.21.5,<7.0.0,>=3.20.2 in /usr/local/lib/python3.12/dist-packages (from google-cloud-vision) (5.29.5)\n",
            "Requirement already satisfied: googleapis-common-protos<2.0.0,>=1.56.2 in /usr/local/lib/python3.12/dist-packages (from google-api-core!=2.0.*,!=2.1.*,!=2.10.*,!=2.2.*,!=2.3.*,!=2.4.*,!=2.5.*,!=2.6.*,!=2.7.*,!=2.8.*,!=2.9.*,<3.0.0,>=1.34.1->google-api-core[grpc]!=2.0.*,!=2.1.*,!=2.10.*,!=2.2.*,!=2.3.*,!=2.4.*,!=2.5.*,!=2.6.*,!=2.7.*,!=2.8.*,!=2.9.*,<3.0.0,>=1.34.1->google-cloud-vision) (1.71.0)\n",
            "Requirement already satisfied: requests<3.0.0,>=2.18.0 in /usr/local/lib/python3.12/dist-packages (from google-api-core!=2.0.*,!=2.1.*,!=2.10.*,!=2.2.*,!=2.3.*,!=2.4.*,!=2.5.*,!=2.6.*,!=2.7.*,!=2.8.*,!=2.9.*,<3.0.0,>=1.34.1->google-api-core[grpc]!=2.0.*,!=2.1.*,!=2.10.*,!=2.2.*,!=2.3.*,!=2.4.*,!=2.5.*,!=2.6.*,!=2.7.*,!=2.8.*,!=2.9.*,<3.0.0,>=1.34.1->google-cloud-vision) (2.32.4)\n",
            "Requirement already satisfied: grpcio-status<2.0.0,>=1.33.2 in /usr/local/lib/python3.12/dist-packages (from google-api-core[grpc]!=2.0.*,!=2.1.*,!=2.10.*,!=2.2.*,!=2.3.*,!=2.4.*,!=2.5.*,!=2.6.*,!=2.7.*,!=2.8.*,!=2.9.*,<3.0.0,>=1.34.1->google-cloud-vision) (1.71.2)\n",
            "Requirement already satisfied: cachetools<6.0,>=2.0.0 in /usr/local/lib/python3.12/dist-packages (from google-auth!=2.24.0,!=2.25.0,<3.0.0,>=2.14.1->google-cloud-vision) (5.5.2)\n",
            "Requirement already satisfied: pyasn1-modules>=0.2.1 in /usr/local/lib/python3.12/dist-packages (from google-auth!=2.24.0,!=2.25.0,<3.0.0,>=2.14.1->google-cloud-vision) (0.4.2)\n",
            "Requirement already satisfied: rsa<5,>=3.1.4 in /usr/local/lib/python3.12/dist-packages (from google-auth!=2.24.0,!=2.25.0,<3.0.0,>=2.14.1->google-cloud-vision) (4.9.1)\n",
            "Requirement already satisfied: typing-extensions~=4.12 in /usr/local/lib/python3.12/dist-packages (from grpcio<2.0.0,>=1.33.2->google-cloud-vision) (4.15.0)\n",
            "Requirement already satisfied: pyasn1<0.7.0,>=0.6.1 in /usr/local/lib/python3.12/dist-packages (from pyasn1-modules>=0.2.1->google-auth!=2.24.0,!=2.25.0,<3.0.0,>=2.14.1->google-cloud-vision) (0.6.1)\n",
            "Requirement already satisfied: charset_normalizer<4,>=2 in /usr/local/lib/python3.12/dist-packages (from requests<3.0.0,>=2.18.0->google-api-core!=2.0.*,!=2.1.*,!=2.10.*,!=2.2.*,!=2.3.*,!=2.4.*,!=2.5.*,!=2.6.*,!=2.7.*,!=2.8.*,!=2.9.*,<3.0.0,>=1.34.1->google-api-core[grpc]!=2.0.*,!=2.1.*,!=2.10.*,!=2.2.*,!=2.3.*,!=2.4.*,!=2.5.*,!=2.6.*,!=2.7.*,!=2.8.*,!=2.9.*,<3.0.0,>=1.34.1->google-cloud-vision) (3.4.4)\n",
            "Requirement already satisfied: idna<4,>=2.5 in /usr/local/lib/python3.12/dist-packages (from requests<3.0.0,>=2.18.0->google-api-core!=2.0.*,!=2.1.*,!=2.10.*,!=2.2.*,!=2.3.*,!=2.4.*,!=2.5.*,!=2.6.*,!=2.7.*,!=2.8.*,!=2.9.*,<3.0.0,>=1.34.1->google-api-core[grpc]!=2.0.*,!=2.1.*,!=2.10.*,!=2.2.*,!=2.3.*,!=2.4.*,!=2.5.*,!=2.6.*,!=2.7.*,!=2.8.*,!=2.9.*,<3.0.0,>=1.34.1->google-cloud-vision) (3.11)\n",
            "Requirement already satisfied: urllib3<3,>=1.21.1 in /usr/local/lib/python3.12/dist-packages (from requests<3.0.0,>=2.18.0->google-api-core!=2.0.*,!=2.1.*,!=2.10.*,!=2.2.*,!=2.3.*,!=2.4.*,!=2.5.*,!=2.6.*,!=2.7.*,!=2.8.*,!=2.9.*,<3.0.0,>=1.34.1->google-api-core[grpc]!=2.0.*,!=2.1.*,!=2.10.*,!=2.2.*,!=2.3.*,!=2.4.*,!=2.5.*,!=2.6.*,!=2.7.*,!=2.8.*,!=2.9.*,<3.0.0,>=1.34.1->google-cloud-vision) (2.5.0)\n",
            "Requirement already satisfied: certifi>=2017.4.17 in /usr/local/lib/python3.12/dist-packages (from requests<3.0.0,>=2.18.0->google-api-core!=2.0.*,!=2.1.*,!=2.10.*,!=2.2.*,!=2.3.*,!=2.4.*,!=2.5.*,!=2.6.*,!=2.7.*,!=2.8.*,!=2.9.*,<3.0.0,>=1.34.1->google-api-core[grpc]!=2.0.*,!=2.1.*,!=2.10.*,!=2.2.*,!=2.3.*,!=2.4.*,!=2.5.*,!=2.6.*,!=2.7.*,!=2.8.*,!=2.9.*,<3.0.0,>=1.34.1->google-cloud-vision) (2025.10.5)\n"
          ]
        }
      ],
      "source": [
        "!pip install google-cloud-vision"
      ]
    },
    {
      "cell_type": "code",
      "execution_count": 5,
      "metadata": {
        "id": "AZDdOd8Cf8ka"
      },
      "outputs": [],
      "source": [
        "from google.cloud import vision"
      ]
    },
    {
      "cell_type": "markdown",
      "metadata": {
        "id": "_OTgA0oasEAd"
      },
      "source": [
        "Upload a JSON file with the authentication details.\n",
        "\n",
        "If not connecting to an institutional Drive account you could put it there and connect, which is more secure.\n",
        "The code below assumes that the `.json` file is at the top level of the files menu (icon to the left), at the same level as the `sample_data` directory.\n",
        "Note that all files in this directory are deleted after your session ends."
      ]
    },
    {
      "cell_type": "code",
      "execution_count": 6,
      "metadata": {
        "id": "JTH-tiW83-It"
      },
      "outputs": [],
      "source": [
        "os.environ[\"GOOGLE_APPLICATION_CREDENTIALS\"] = \"prime-poetry-475713-s7-2e04e578e446.json\""
      ]
    },
    {
      "cell_type": "markdown",
      "metadata": {
        "id": "qU6UVohr5DpL"
      },
      "source": [
        "Get a file ready to write any errors to it."
      ]
    },
    {
      "cell_type": "code",
      "execution_count": 7,
      "metadata": {
        "id": "Nt8afKcg5IqI"
      },
      "outputs": [],
      "source": [
        "qafile=open('qafile.txt', 'w')"
      ]
    },
    {
      "cell_type": "markdown",
      "metadata": {
        "id": "wvtSEjWd5Txr"
      },
      "source": [
        "This big function gets the images and extracts text from them."
      ]
    },
    {
      "cell_type": "code",
      "execution_count": 8,
      "metadata": {
        "id": "iyMu0cTR5jlc"
      },
      "outputs": [],
      "source": [
        "def detect_handwriting_paragraphs(path):\n",
        "    \"\"\"Detects handwriting in the file.\"\"\"\n",
        "    client = vision.ImageAnnotatorClient()\n",
        "\n",
        "    image = vision.Image()\n",
        "    image.source.image_uri = path\n",
        "\n",
        "    #image = vision.Image(content=content)\n",
        "    response = client.document_text_detection(image=image)  # Use document_text_detection for handwriting\n",
        "    annotation = response.full_text_annotation\n",
        "\n",
        "    paragraphs = []\n",
        "    lines = []\n",
        "\n",
        "    for page in annotation.pages:\n",
        "        for block in page.blocks:\n",
        "            for paragraph in block.paragraphs:\n",
        "                para = \"\"\n",
        "                line = \"\"\n",
        "                for word in paragraph.words:\n",
        "                    for symbol in word.symbols:\n",
        "                        line += symbol.text\n",
        "                        #SPACE\n",
        "                        if symbol.property.detected_break.type == 1:\n",
        "                            line += ' '\n",
        "                        #EOL_SURE_SPACE\n",
        "                        if symbol.property.detected_break.type == 3:\n",
        "                            line += ' '\n",
        "                            line=line.replace(\"<\", \"&lt;\")\n",
        "                            line=line.replace(\">\", \"&gt;\")\n",
        "                            line+=\"<lb/>\\n\"\n",
        "                            lines.append(line)\n",
        "                            para += line\n",
        "                            line = ''\n",
        "                        #LINE_BREAK\n",
        "                        if symbol.property.detected_break.type == 5:\n",
        "                            #line+=\"<lb/>\\n\"\n",
        "                            line=line.replace(\"<\", \"&lt;\")\n",
        "                            line=line.replace(\">\", \"&gt;\")\n",
        "                            lines.append(line)\n",
        "                            para += line\n",
        "                            line = ''\n",
        "                paragraphs.append(para)\n",
        "\n",
        "\n",
        "    if response.error.message:\n",
        "        raise Exception('{}\\nFor more info on error messages, check: https://cloud.google.com/apis/design/errors'.format(response.error.message))\n",
        "\n",
        "\n",
        "\n",
        "    return paragraphs"
      ]
    },
    {
      "cell_type": "markdown",
      "metadata": {
        "id": "NrUqnROq6QeN"
      },
      "source": [
        "Get the IIIF manifest, which contains the URLs of the images we want.\n",
        "This URL is set right at the top of the notebook."
      ]
    },
    {
      "cell_type": "code",
      "execution_count": 9,
      "metadata": {
        "id": "bpLe3OekZ_UN"
      },
      "outputs": [],
      "source": [
        "r = requests.get(manifest)\n",
        "json_data=r.json()\n"
      ]
    },
    {
      "cell_type": "markdown",
      "metadata": {
        "id": "gfRsmSLPamui"
      },
      "source": [
        "Create an XML file. We will write all transcriptions to one file."
      ]
    },
    {
      "cell_type": "code",
      "execution_count": 10,
      "metadata": {
        "id": "Cx0B92Liawpx"
      },
      "outputs": [],
      "source": [
        "xmlfile=open('xmlfile.xml', 'w')"
      ]
    },
    {
      "cell_type": "markdown",
      "metadata": {
        "id": "ZppwcS9Uay2Q"
      },
      "source": [
        "Add the opening elements to the new file"
      ]
    },
    {
      "cell_type": "code",
      "execution_count": 11,
      "metadata": {
        "colab": {
          "base_uri": "https://localhost:8080/"
        },
        "id": "1A0Sr6_6a2r_",
        "outputId": "acb7caa4-e7cd-4da6-b707-77f1d4201584"
      },
      "outputs": [
        {
          "output_type": "execute_result",
          "data": {
            "text/plain": [
              "20"
            ]
          },
          "metadata": {},
          "execution_count": 11
        }
      ],
      "source": [
        "xmlfile.write(\"<text>\\n<body>\\n<div>\\n\")"
      ]
    },
    {
      "cell_type": "markdown",
      "metadata": {
        "id": "phJ4KRUBbK-w"
      },
      "source": [
        "Now we can iterate through the IIIF manifest. We need to set the counter to 0 to start with."
      ]
    },
    {
      "cell_type": "code",
      "execution_count": 12,
      "metadata": {
        "id": "gjh4cPIpbPYw"
      },
      "outputs": [],
      "source": [
        "counter=0"
      ]
    },
    {
      "cell_type": "markdown",
      "metadata": {
        "id": "nahdo_V9bSfl"
      },
      "source": [
        "Iterate through the manifest, passing each URL to Google Vision to do the HTR."
      ]
    },
    {
      "cell_type": "code",
      "execution_count": 13,
      "metadata": {
        "colab": {
          "base_uri": "https://localhost:8080/"
        },
        "id": "-f9ppSMibhsV",
        "outputId": "44357d8b-688b-45e1-c228-d6839975236e"
      },
      "outputs": [
        {
          "output_type": "stream",
          "name": "stdout",
          "text": [
            "<pb n=\"cover\" xml:id=\"page-pb-cover\" facs=\"#page-surface-1\"/>\n",
            "<pb n=\"5125\" xml:id=\"page-pb-5125\" facs=\"#page-surface-2\"/>\n",
            "<pb n=\"5126-5127\" xml:id=\"page-pb-5126-5127\" facs=\"#page-surface-3\"/>\n",
            "<pb n=\"5128-5129\" xml:id=\"page-pb-5128-5129\" facs=\"#page-surface-4\"/>\n",
            "<pb n=\"5130-5131\" xml:id=\"page-pb-5130-5131\" facs=\"#page-surface-5\"/>\n",
            "<pb n=\"5132-5133\" xml:id=\"page-pb-5132-5133\" facs=\"#page-surface-6\"/>\n",
            "<pb n=\"5134-5135\" xml:id=\"page-pb-5134-5135\" facs=\"#page-surface-7\"/>\n",
            "<pb n=\"5136-5137\" xml:id=\"page-pb-5136-5137\" facs=\"#page-surface-8\"/>\n",
            "<pb n=\"5138-5139\" xml:id=\"page-pb-5138-5139\" facs=\"#page-surface-9\"/>\n",
            "<pb n=\"5140-5141\" xml:id=\"page-pb-5140-5141\" facs=\"#page-surface-10\"/>\n",
            "<pb n=\"5142-5143\" xml:id=\"page-pb-5142-5143\" facs=\"#page-surface-11\"/>\n",
            "<pb n=\"5144-5145\" xml:id=\"page-pb-5144-5145\" facs=\"#page-surface-12\"/>\n",
            "<pb n=\"5146-5147\" xml:id=\"page-pb-5146-5147\" facs=\"#page-surface-13\"/>\n",
            "<pb n=\"5148-5149\" xml:id=\"page-pb-5148-5149\" facs=\"#page-surface-14\"/>\n",
            "<pb n=\"5150-5151\" xml:id=\"page-pb-5150-5151\" facs=\"#page-surface-15\"/>\n",
            "<pb n=\"5152-5153\" xml:id=\"page-pb-5152-5153\" facs=\"#page-surface-16\"/>\n",
            "<pb n=\"5154-5155\" xml:id=\"page-pb-5154-5155\" facs=\"#page-surface-17\"/>\n",
            "<pb n=\"5156-5157\" xml:id=\"page-pb-5156-5157\" facs=\"#page-surface-18\"/>\n",
            "<pb n=\"5158-5159\" xml:id=\"page-pb-5158-5159\" facs=\"#page-surface-19\"/>\n",
            "<pb n=\"5160-5161\" xml:id=\"page-pb-5160-5161\" facs=\"#page-surface-20\"/>\n",
            "<pb n=\"5162-5163\" xml:id=\"page-pb-5162-5163\" facs=\"#page-surface-21\"/>\n",
            "<pb n=\"5164-5165\" xml:id=\"page-pb-5164-5165\" facs=\"#page-surface-22\"/>\n",
            "<pb n=\"5166-5167\" xml:id=\"page-pb-5166-5167\" facs=\"#page-surface-23\"/>\n",
            "<pb n=\"5168-5169\" xml:id=\"page-pb-5168-5169\" facs=\"#page-surface-24\"/>\n",
            "<pb n=\"5170-5171\" xml:id=\"page-pb-5170-5171\" facs=\"#page-surface-25\"/>\n",
            "<pb n=\"5172-5173\" xml:id=\"page-pb-5172-5173\" facs=\"#page-surface-26\"/>\n",
            "<pb n=\"5174-5175\" xml:id=\"page-pb-5174-5175\" facs=\"#page-surface-27\"/>\n",
            "<pb n=\"5176-5177\" xml:id=\"page-pb-5176-5177\" facs=\"#page-surface-28\"/>\n",
            "<pb n=\"5178-5179\" xml:id=\"page-pb-5178-5179\" facs=\"#page-surface-29\"/>\n",
            "<pb n=\"5180-5181\" xml:id=\"page-pb-5180-5181\" facs=\"#page-surface-30\"/>\n",
            "<pb n=\"5182-5183\" xml:id=\"page-pb-5182-5183\" facs=\"#page-surface-31\"/>\n",
            "<pb n=\"5184-5185\" xml:id=\"page-pb-5184-5185\" facs=\"#page-surface-32\"/>\n",
            "<pb n=\"5186-5187\" xml:id=\"page-pb-5186-5187\" facs=\"#page-surface-33\"/>\n",
            "<pb n=\"5188-5189\" xml:id=\"page-pb-5188-5189\" facs=\"#page-surface-34\"/>\n",
            "<pb n=\"5190-5191\" xml:id=\"page-pb-5190-5191\" facs=\"#page-surface-35\"/>\n",
            "<pb n=\"5192-5193\" xml:id=\"page-pb-5192-5193\" facs=\"#page-surface-36\"/>\n",
            "<pb n=\"5194-5195\" xml:id=\"page-pb-5194-5195\" facs=\"#page-surface-37\"/>\n",
            "<pb n=\"5196-5197\" xml:id=\"page-pb-5196-5197\" facs=\"#page-surface-38\"/>\n",
            "<pb n=\"5198-5199\" xml:id=\"page-pb-5198-5199\" facs=\"#page-surface-39\"/>\n",
            "<pb n=\"5200-5201\" xml:id=\"page-pb-5200-5201\" facs=\"#page-surface-40\"/>\n",
            "<pb n=\"5202-5203\" xml:id=\"page-pb-5202-5203\" facs=\"#page-surface-41\"/>\n",
            "<pb n=\"5204-5205\" xml:id=\"page-pb-5204-5205\" facs=\"#page-surface-42\"/>\n",
            "<pb n=\"5206-5207\" xml:id=\"page-pb-5206-5207\" facs=\"#page-surface-43\"/>\n",
            "<pb n=\"5208-5209\" xml:id=\"page-pb-5208-5209\" facs=\"#page-surface-44\"/>\n",
            "<pb n=\"5210-5211\" xml:id=\"page-pb-5210-5211\" facs=\"#page-surface-45\"/>\n",
            "<pb n=\"5212\" xml:id=\"page-pb-5212\" facs=\"#page-surface-46\"/>\n",
            "<pb n=\"back cover\" xml:id=\"page-pb-back cover\" facs=\"#page-surface-47\"/>\n"
          ]
        }
      ],
      "source": [
        "for sequence in json_data['sequences']:\n",
        "  for canvas in sequence['canvases']:\n",
        "    label=canvas['label']\n",
        "    xmlid=\"page-pb-\"+label\n",
        "    counter+=1\n",
        "    facs=\"#page-surface-\"+str(counter)\n",
        "    for image in canvas['images']:\n",
        "      iiif_image=image['resource']['@id']\n",
        "      image_id=iiif_image.rsplit('/', 1)[-1]\n",
        "\n",
        "      #writes out page break information\n",
        "      pb=f'<pb n=\"{label}\" xml:id=\"{xmlid}\" facs=\"{facs}\"/>'\n",
        "      print(pb)\n",
        "      xmlfile.write(pb+\"\\n\")\n",
        "\n",
        "      paragraphs=[]\n",
        "\n",
        "      #gets the text from the image\n",
        "      if spread==\"Y\":\n",
        "        paragraphs_1=detect_handwriting_paragraphs(iiif_image+\"/pct:0,0,50,100/full/0/default.jpg\")\n",
        "        paragraphs_2=detect_handwriting_paragraphs(iiif_image+\"/pct:50,0,100,100/full/0/default.jpg\")\n",
        "        paragraphs=paragraphs_1+paragraphs_2\n",
        "      else:\n",
        "        paragraphs=detect_handwriting_paragraphs(iiif_image+\"/full/full/0/default.jpg\")\n",
        "\n",
        "      for paragraph in paragraphs:\n",
        "        paragraph=paragraph.replace(\"&\", \"&amp;\")\n",
        "        xmlfile.write(\"<p>\"+paragraph+\"</p>\\n\")\n"
      ]
    },
    {
      "cell_type": "markdown",
      "metadata": {
        "id": "h0YhVYRFcwtL"
      },
      "source": [
        "Now the file should have been populated and we can append the closing elements to make the XML well formed."
      ]
    },
    {
      "cell_type": "code",
      "execution_count": 14,
      "metadata": {
        "colab": {
          "base_uri": "https://localhost:8080/"
        },
        "id": "_cqxpS6Bc3rE",
        "outputId": "0ef8c35a-d3e8-4793-ba4a-3e2416eef78b"
      },
      "outputs": [
        {
          "output_type": "execute_result",
          "data": {
            "text/plain": [
              "22"
            ]
          },
          "metadata": {},
          "execution_count": 14
        }
      ],
      "source": [
        "xmlfile.write(\"</div>\\n</body>\\n</text>\")"
      ]
    },
    {
      "cell_type": "markdown",
      "metadata": {
        "id": "DXipGo61eEDS"
      },
      "source": [
        "Show us the top of the file to see what was produced."
      ]
    },
    {
      "cell_type": "code",
      "execution_count": 15,
      "metadata": {
        "colab": {
          "base_uri": "https://localhost:8080/"
        },
        "id": "9RY7vtopeLL6",
        "outputId": "c06b115f-0787-4f8c-d02e-4defdcb22091"
      },
      "outputs": [
        {
          "output_type": "stream",
          "name": "stdout",
          "text": [
            "<text>\n",
            "<body>\n",
            "<div>\n",
            "<pb n=\"cover\" xml:id=\"page-pb-cover\" facs=\"#page-surface-1\"/>\n",
            "<p>5125-5212</p>\n",
            "<p>29 Oct. 1961</p>\n",
            "<p>Cambridge</p>\n",
            "<p>Horning <lb/>\n",
            "Ditc</p>\n",
            "<p>&amp;C. <lb/>\n"
          ]
        }
      ],
      "source": [
        "!head xmlfile.xml"
      ]
    },
    {
      "cell_type": "markdown",
      "metadata": {
        "id": "VsyNBF5glf_R"
      },
      "source": [
        "Want to try with something else? How about this text in Chinese?\n",
        "https://cudl.lib.cam.ac.uk/view/MS-FC-00099-00025/1"
      ]
    },
    {
      "cell_type": "markdown",
      "metadata": {
        "id": "Q2msaSLqmPj1"
      },
      "source": [
        "If you have a look at this, you'll see the pages are single spreads not doubles like the Rackham. That means you'll have to change the SPREAD variable in the cell at the top of the notebook."
      ]
    },
    {
      "cell_type": "markdown",
      "metadata": {
        "id": "v9Hkhw_ul041"
      },
      "source": [
        "The IIIF manifest for this set of images is here, so you need to swap the address at the top of the notebook to run it:\n",
        "\n",
        "https://cudl.lib.cam.ac.uk//iiif/MS-FC-00099-00025.json"
      ]
    },
    {
      "cell_type": "markdown",
      "metadata": {
        "id": "TVLy4wbHmhUb"
      },
      "source": [
        "Finally you might want to change the name of the output file, so that the Rackham transcription is not overwritten. This file will also be an XML file."
      ]
    }
  ],
  "metadata": {
    "colab": {
      "provenance": []
    },
    "kernelspec": {
      "display_name": "Python 3 (ipykernel)",
      "language": "python",
      "name": "python3"
    },
    "language_info": {
      "codemirror_mode": {
        "name": "ipython",
        "version": 3
      },
      "file_extension": ".py",
      "mimetype": "text/x-python",
      "name": "python",
      "nbconvert_exporter": "python",
      "pygments_lexer": "ipython3",
      "version": "3.12.3"
    }
  },
  "nbformat": 4,
  "nbformat_minor": 0
}